{
 "cells": [
  {
   "cell_type": "code",
   "execution_count": 2,
   "id": "75f88d8e",
   "metadata": {},
   "outputs": [],
   "source": [
    "import pandas as pd   ## Libreria para manipular y analizar datos\n",
    "import matplotlib.pyplot as plt  ## Libreria para visualizar\n",
    "import seaborn as sns   ## Libreria para visualizar\n",
    "import numpy as np  ## Libreria para operaciones numéricas\n",
    "import plotly  ## Libreria para visualizaciones interactivas\n",
    "import matplotlib.ticker as mtick  ## función para formatear en visualizaciones\n",
    "from scipy.stats import skew, kurtosis  ## funciones estadísticas\n",
    "from scipy.stats import randint ## distribución uniforme discreta\n",
    "from scipy.stats import binom ## distribución binomial\n",
    "from scipy.stats import poisson ## distribución Poisson\n",
    "from scipy.stats import norm ## distribución normal"
   ]
  },
  {
   "cell_type": "markdown",
   "id": "3b107b59",
   "metadata": {},
   "source": [
    "En los últimos 20 partidos el América ha anotado en promedio 1.2 goles de local, mientras que el Cali ha anotado en promedio 0.9 goles de visitante, en el mismo número de partidos. Suponiendo independencia en los goles que anotan ambos equipos:\n",
    "- **1.** ¿qué probabilidad tiene América de no anotar goles?.\n",
    "- **2.** ¿ y el Cali qué probabilidad tiene de no anotar goles?.\n",
    "- **3.** ¿Qué probabilidad tiene el América de anotar 1 ó 2 goles?.\n",
    "- **4.** ¿ y el Cali qué probabilidad tiene de anotar 1 ó 2 goles?. \n",
    "- **5.** Construir una gráfica de barras para cada equipo desde 0 a 5 goles. \n",
    "- **6.** ¿Qué probabilidad hay de que el partido termine:\n",
    "    - 0 0, \n",
    "    - 1 0, \n",
    "    - 1 1, \n",
    "    - 2 1, \n",
    "    - 1 2?"
   ]
  },
  {
   "cell_type": "markdown",
   "id": "5de10c9a",
   "metadata": {},
   "source": [
    "**1.** ¿qué probabilidad tiene América de no anotar goles? "
   ]
  },
  {
   "cell_type": "code",
   "execution_count": 73,
   "id": "6f6a0eb1",
   "metadata": {},
   "outputs": [
    {
     "data": {
      "text/plain": [
       "'La probabilidad de América de NO ANOTAR GOLES es: 30.12%'"
      ]
     },
     "execution_count": 73,
     "metadata": {},
     "output_type": "execute_result"
    }
   ],
   "source": [
    "p_amer_0=poisson.pmf(k=0,mu=1.2)\n",
    "\"La probabilidad de América de NO ANOTAR GOLES es: \" \"{:.2%}\".format(p_amer_0) \n",
    "## La probabilidad de América de **NO ANOTAR GOLES** la almaceno en la variable p_amer_0 "
   ]
  },
  {
   "cell_type": "markdown",
   "id": "b8eeadc5",
   "metadata": {},
   "source": [
    "**2.** ¿ y el Cali qué probabilidad tiene de no anotar goles?."
   ]
  },
  {
   "cell_type": "code",
   "execution_count": 113,
   "id": "1ddc39c1",
   "metadata": {},
   "outputs": [
    {
     "data": {
      "text/plain": [
       "'La probabilidad del Cali de NO ANOTAR GOLES es: 40.66% '"
      ]
     },
     "execution_count": 113,
     "metadata": {},
     "output_type": "execute_result"
    }
   ],
   "source": [
    "p_cali_0=poisson.pmf(k=0,mu=0.9)\n",
    "\"La probabilidad del Cali de NO ANOTAR GOLES es: \" \"{:.2%} \".format(p_cali_0)\n",
    "## La probabilidad de Cali de **NO ANOTAR GOLES** la almaceno en la variable p_cali_0 "
   ]
  },
  {
   "cell_type": "markdown",
   "id": "6abdece2",
   "metadata": {},
   "source": [
    "**3.** ¿Qué probabilidad tiene el América de anotar 1 ó 2 goles?."
   ]
  },
  {
   "cell_type": "code",
   "execution_count": 165,
   "id": "5819dc5b",
   "metadata": {},
   "outputs": [
    {
     "data": {
      "text/plain": [
       "'La probabilidad de que América ANOTE 1 GOL es: 36.59% '"
      ]
     },
     "execution_count": 165,
     "metadata": {},
     "output_type": "execute_result"
    }
   ],
   "source": [
    "p_amer_1=poisson.pmf(k=1,mu=0.9) \n",
    "\"La probabilidad de que América ANOTE 1 GOL es: \" \"{:.2%} \".format(p_amer_1)\n",
    "## Calculo la probabilidad de que América ANOTE 1 GOL, la almaceno en la variable p_amer_1"
   ]
  },
  {
   "cell_type": "code",
   "execution_count": 166,
   "id": "a12f046e",
   "metadata": {},
   "outputs": [
    {
     "data": {
      "text/plain": [
       "'La probabilidad de que América ANOTE 2 GOLES es: 16.47% '"
      ]
     },
     "execution_count": 166,
     "metadata": {},
     "output_type": "execute_result"
    }
   ],
   "source": [
    "p_amer_2=poisson.pmf(k=2,mu=0.9)\n",
    "\"La probabilidad de que América ANOTE 2 GOLES es: \" \"{:.2%} \".format(p_amer_2)\n",
    "## Calculo la probabilidad de que América ANOTE 2 GOLES, qla almaceno en la variable p_amer_2"
   ]
  },
  {
   "cell_type": "code",
   "execution_count": 161,
   "id": "24d11718",
   "metadata": {},
   "outputs": [
    {
     "data": {
      "text/plain": [
       "'La probabilidad de que América anote 1 ó 2 goles es: 27.71% ===> (36.14% + 21.69% ) - ( 30.12% ) '"
      ]
     },
     "execution_count": 161,
     "metadata": {},
     "output_type": "execute_result"
    }
   ],
   "source": [
    "p_amer_1_o_2=p_amer_1+p_amer_2-p_amer_0\n",
    "\"La probabilidad de que América anote 1 ó 2 goles es: \" \"{:.2%} ===> \".format(p_amer_1_o_2) +\"({:.2%} + \".format(p_amer_1) +\"{:.2%} ) - \".format(p_amer_2) + \"( \" \"{:.2%} ) \".format(p_amer_0)\n",
    "# SUMO la probabilidad de que América ANOTE 1 GOL      (p_amer_1)  \n",
    "# MÁS la probabilidad de que América ANOTE 2 GOLES   + (p_amer_2) \n",
    "# resto de la suma anterior:\n",
    "# la probabilidad de América de NO ANOTAR goles      - (p_amer_0)\n",
    "## Calculo la probabilidad de que tiene América de ANOTAR 1 ó 2 GOLES, la almaceno en p_amer_1_o_2"
   ]
  },
  {
   "cell_type": "markdown",
   "id": "904c3f8e",
   "metadata": {},
   "source": [
    "**4.** ¿ y el Cali qué probabilidad tiene de anotar 1 ó 2 goles?. "
   ]
  },
  {
   "cell_type": "code",
   "execution_count": 121,
   "id": "13f2e271",
   "metadata": {},
   "outputs": [
    {
     "data": {
      "text/plain": [
       "'La probabilidad del Cali de anotar UN GOL es: 36.14% '"
      ]
     },
     "execution_count": 121,
     "metadata": {},
     "output_type": "execute_result"
    }
   ],
   "source": [
    "p_cali_1=poisson.pmf(k=1,mu=1.2)\n",
    "\"La probabilidad del Cali de anotar UN GOL es: \" \"{:.2%} \".format(p_cali_1)\n",
    "# Calculo la probabilidad de que Cali ANOTE 1 GOL, la almaceno en la variable p_cali_1"
   ]
  },
  {
   "cell_type": "code",
   "execution_count": 122,
   "id": "45cc8c82",
   "metadata": {},
   "outputs": [
    {
     "data": {
      "text/plain": [
       "'La probabilidad del Cali de anotar DOS GOLES es: 21.69% '"
      ]
     },
     "execution_count": 122,
     "metadata": {},
     "output_type": "execute_result"
    }
   ],
   "source": [
    "p_cali_2=poisson.pmf(k=2,mu=1.2)\n",
    "\"La probabilidad del Cali de anotar DOS GOLES es: \" \"{:.2%} \".format(p_cali_2)\n",
    "# Calculo la probabilidad de que Cali ANOTE 2 GOLES, la almaceno en la variable p_cali_2"
   ]
  },
  {
   "cell_type": "code",
   "execution_count": 160,
   "id": "2663a533",
   "metadata": {},
   "outputs": [
    {
     "data": {
      "text/plain": [
       "'La probabilidad del Cali de anotar UNO ó DOS goles es: 17.17% ===> ( 36.14% + 21.69% ) - (40.66% ) '"
      ]
     },
     "execution_count": 160,
     "metadata": {},
     "output_type": "execute_result"
    }
   ],
   "source": [
    "p_cali_1_o_2=p_cali_1+p_cali_2-p_cali_0\n",
    "\"La probabilidad del Cali de anotar UNO ó DOS goles es: \" \"{:.2%} ===> ( \".format(p_cali_1_o_2) + \"{:.2%} + \".format(p_cali_1) + \"{:.2%} ) - (\".format(p_cali_2) + \"{:.2%} ) \".format(p_cali_0)\n",
    "# SUMO la probabilidad de que el Cali ANOTE 1 GOL    (p_cali_1)  \n",
    "# MÁS la probabilidad de que el Cali ANOTE 2 GOLES + (p_cali_2) \n",
    "# resto de la suma anterior:\n",
    "# la probabilidad del Cali de NO ANOTAR goles      - (p_cali_0).\n",
    "## Calculo la probabilidad del Cali de ANOTAR 1 ó 2 GOLES, la almaceno en p_cali_1_o_2\""
   ]
  },
  {
   "cell_type": "markdown",
   "id": "689b28b7",
   "metadata": {},
   "source": [
    " **5.** Construir una gráfica de barras para cada equipo desde 0 a 5 goles. "
   ]
  },
  {
   "cell_type": "code",
   "execution_count": 16,
   "id": "f4d76d07",
   "metadata": {},
   "outputs": [
    {
     "data": {
      "text/html": [
       "<div>\n",
       "<style scoped>\n",
       "    .dataframe tbody tr th:only-of-type {\n",
       "        vertical-align: middle;\n",
       "    }\n",
       "\n",
       "    .dataframe tbody tr th {\n",
       "        vertical-align: top;\n",
       "    }\n",
       "\n",
       "    .dataframe thead th {\n",
       "        text-align: right;\n",
       "    }\n",
       "</style>\n",
       "<table border=\"1\" class=\"dataframe\">\n",
       "  <thead>\n",
       "    <tr style=\"text-align: right;\">\n",
       "      <th></th>\n",
       "      <th># GOLES America</th>\n",
       "      <th>Probabilidad</th>\n",
       "    </tr>\n",
       "  </thead>\n",
       "  <tbody>\n",
       "    <tr>\n",
       "      <th>0</th>\n",
       "      <td>0</td>\n",
       "      <td>0.301194</td>\n",
       "    </tr>\n",
       "    <tr>\n",
       "      <th>1</th>\n",
       "      <td>1</td>\n",
       "      <td>0.361433</td>\n",
       "    </tr>\n",
       "    <tr>\n",
       "      <th>2</th>\n",
       "      <td>2</td>\n",
       "      <td>0.216860</td>\n",
       "    </tr>\n",
       "    <tr>\n",
       "      <th>3</th>\n",
       "      <td>3</td>\n",
       "      <td>0.086744</td>\n",
       "    </tr>\n",
       "    <tr>\n",
       "      <th>4</th>\n",
       "      <td>4</td>\n",
       "      <td>0.026023</td>\n",
       "    </tr>\n",
       "  </tbody>\n",
       "</table>\n",
       "</div>"
      ],
      "text/plain": [
       "   # GOLES America  Probabilidad\n",
       "0                0      0.301194\n",
       "1                1      0.361433\n",
       "2                2      0.216860\n",
       "3                3      0.086744\n",
       "4                4      0.026023"
      ]
     },
     "execution_count": 16,
     "metadata": {},
     "output_type": "execute_result"
    }
   ],
   "source": [
    "amer_0_a_5 = pd.DataFrame(data={'# GOLES America':range(0,5),\n",
    "                        'Probabilidad':poisson.pmf(k=range(0,5),mu=1.2)})\n",
    "amer_0_a_5"
   ]
  },
  {
   "cell_type": "code",
   "execution_count": null,
   "id": "74f35d81",
   "metadata": {},
   "outputs": [],
   "source": []
  },
  {
   "cell_type": "code",
   "execution_count": 162,
   "id": "38a0f3a5",
   "metadata": {},
   "outputs": [
    {
     "data": {
      "image/png": "[encoded data removed]",
      "text/plain": [
       "<Figure size 640x480 with 1 Axes>"
      ]
     },
     "metadata": {},
     "output_type": "display_data"
    }
   ],
   "source": [
    "amer_graf = plt.figure() \n",
    "ax = amer_graf.add_axes([0,0,1,1])\n",
    "ax=sns.barplot(x=amer_0_a_5['# GOLES America'],y=amer_0_a_5[\"Probabilidad\"]*100, color=\"lightskyblue\") \n",
    "ax.bar_label(ax.containers[0], label_type='edge',fmt='%.2f%%',padding=3, size=9)  \n",
    "ax.yaxis.set_major_formatter(mtick.PercentFormatter(xmax=100)) \n",
    "ax.set(ylim=(0, 50))\n",
    "plt.show() "
   ]
  },
  {
   "cell_type": "code",
   "execution_count": 163,
   "id": "e8352813",
   "metadata": {},
   "outputs": [
    {
     "data": {
      "text/html": [
       "<div>\n",
       "<style scoped>\n",
       "    .dataframe tbody tr th:only-of-type {\n",
       "        vertical-align: middle;\n",
       "    }\n",
       "\n",
       "    .dataframe tbody tr th {\n",
       "        vertical-align: top;\n",
       "    }\n",
       "\n",
       "    .dataframe thead th {\n",
       "        text-align: right;\n",
       "    }\n",
       "</style>\n",
       "<table border=\"1\" class=\"dataframe\">\n",
       "  <thead>\n",
       "    <tr style=\"text-align: right;\">\n",
       "      <th></th>\n",
       "      <th># GOLES CALI</th>\n",
       "      <th>Probabilidad</th>\n",
       "    </tr>\n",
       "  </thead>\n",
       "  <tbody>\n",
       "    <tr>\n",
       "      <th>0</th>\n",
       "      <td>0</td>\n",
       "      <td>0.406570</td>\n",
       "    </tr>\n",
       "    <tr>\n",
       "      <th>1</th>\n",
       "      <td>1</td>\n",
       "      <td>0.365913</td>\n",
       "    </tr>\n",
       "    <tr>\n",
       "      <th>2</th>\n",
       "      <td>2</td>\n",
       "      <td>0.164661</td>\n",
       "    </tr>\n",
       "    <tr>\n",
       "      <th>3</th>\n",
       "      <td>3</td>\n",
       "      <td>0.049398</td>\n",
       "    </tr>\n",
       "    <tr>\n",
       "      <th>4</th>\n",
       "      <td>4</td>\n",
       "      <td>0.011115</td>\n",
       "    </tr>\n",
       "  </tbody>\n",
       "</table>\n",
       "</div>"
      ],
      "text/plain": [
       "   # GOLES CALI  Probabilidad\n",
       "0             0      0.406570\n",
       "1             1      0.365913\n",
       "2             2      0.164661\n",
       "3             3      0.049398\n",
       "4             4      0.011115"
      ]
     },
     "execution_count": 163,
     "metadata": {},
     "output_type": "execute_result"
    }
   ],
   "source": [
    "cali_0_a_5 = pd.DataFrame(data={'# GOLES CALI':range(0,5),\n",
    "                        'Probabilidad':poisson.pmf(k=range(0,5),mu=0.9)})\n",
    "cali_0_a_5"
   ]
  },
  {
   "cell_type": "code",
   "execution_count": 164,
   "id": "069db5f8",
   "metadata": {},
   "outputs": [
    {
     "data": {
      "image/png": "[encoded data removed]",
      "text/plain": [
       "<Figure size 640x480 with 1 Axes>"
      ]
     },
     "metadata": {},
     "output_type": "display_data"
    }
   ],
   "source": [
    "cali_graf = plt.figure() \n",
    "ax = cali_graf.add_axes([0,0,1,1])\n",
    "ax=sns.barplot(x=cali_0_a_5['# GOLES CALI'],y=cali_0_a_5[\"Probabilidad\"]*100, color=\"lightskyblue\") \n",
    "ax.bar_label(ax.containers[0], label_type='edge',fmt='%.2f%%',padding=3, size=9)  \n",
    "ax.yaxis.set_major_formatter(mtick.PercentFormatter(xmax=100)) \n",
    "ax.set(ylim=(0, 50))\n",
    "plt.show() "
   ]
  },
  {
   "cell_type": "markdown",
   "id": "dc564b3e",
   "metadata": {},
   "source": [
    "- **6.** ¿Qué probabilidad hay de que el partido termine:\n",
    "    - 0 a 0, "
   ]
  },
  {
   "cell_type": "markdown",
   "id": "752a3d19",
   "metadata": {},
   "source": [
    "probabilidad P_0_a_0 (que un partido termine: **AMERICA:0 , CALI:0**) dado que el ejercicio supone independencia en los goles que anotan ambos equipos y de qué equipo juega de local"
   ]
  },
  {
   "cell_type": "code",
   "execution_count": 171,
   "id": "33a56c0c",
   "metadata": {},
   "outputs": [
    {
     "data": {
      "text/plain": [
       "'La probabilidad de que el partido termine 0 a 0 es: 12.25% '"
      ]
     },
     "execution_count": 171,
     "metadata": {},
     "output_type": "execute_result"
    }
   ],
   "source": [
    "P_0_a_0=p_amer_0*p_cali_0\n",
    "\"La probabilidad de que el partido termine 0 a 0 es: \" \"{:.2%} \".format(P_0_a_0)"
   ]
  },
  {
   "cell_type": "markdown",
   "id": "44ffd61e",
   "metadata": {},
   "source": [
    "- **6.** ¿Qué probabilidad hay de que el partido termine:\n",
    "  -   1 a 0 ?"
   ]
  },
  {
   "cell_type": "markdown",
   "id": "8c1ff922",
   "metadata": {},
   "source": [
    "**CASO 1**: \n",
    "probabildad P_1_a_0 (que un partido termine **CALI:1 , AMERICA:0**) dado que el ejercicio supone independencia en los goles que anotan ambos equipos y de qué equipo juega de local"
   ]
  },
  {
   "cell_type": "code",
   "execution_count": 183,
   "id": "22a75b79",
   "metadata": {},
   "outputs": [
    {
     "data": {
      "text/plain": [
       "'La probabilidad de que el partido termine 1 a 0 (gana el CALI) es: 10.89% ==> 36.14% x 30.12% '"
      ]
     },
     "execution_count": 183,
     "metadata": {},
     "output_type": "execute_result"
    }
   ],
   "source": [
    "P_1_a_0=p_cali_1*p_amer_0\n",
    "\"La probabilidad de que el partido termine 1 a 0 (gana el CALI) es: \" \"{:.2%} ==> \".format(P_1_a_0) + \"{:.2%} x \".format(p_cali_1) + \"{:.2%} \".format(p_amer_0) "
   ]
  },
  {
   "cell_type": "markdown",
   "id": "acb754f7",
   "metadata": {},
   "source": [
    "**CASO 2**:\n",
    "probabildad AMERICA_P_1_a_0 (que un partido termine **AMERICA:1 ,CALI:0**) dado que el ejercicio supone independencia en los goles que anotan ambos equipos y de qué equipo juega de local"
   ]
  },
  {
   "cell_type": "code",
   "execution_count": 186,
   "id": "8d37a10e",
   "metadata": {},
   "outputs": [
    {
     "data": {
      "text/plain": [
       "'La probabilidad de que el partido termine 1 a 0 (gana AMERICA) es: 14.88% ==> 36.59% x 40.66% '"
      ]
     },
     "execution_count": 186,
     "metadata": {},
     "output_type": "execute_result"
    }
   ],
   "source": [
    "AMERICA_P_1_a_0=p_amer_1*p_cali_0\n",
    "\"La probabilidad de que el partido termine 1 a 0 (gana AMERICA) es: \" \"{:.2%} ==> \".format(AMERICA_P_1_a_0) + \"{:.2%} x \".format(p_amer_1) + \"{:.2%} \".format(p_cali_0) "
   ]
  },
  {
   "cell_type": "markdown",
   "id": "5096b9d6",
   "metadata": {},
   "source": [
    "- **6.** ¿Qué probabilidad hay de que el partido termine:\n",
    "  -   1 a 1 ?"
   ]
  },
  {
   "cell_type": "code",
   "execution_count": 192,
   "id": "982f7ddb",
   "metadata": {},
   "outputs": [
    {
     "data": {
      "text/plain": [
       "'La probabilidad de que el partido termine 1 a 1 es: 13.23% ==> 36.59% x 36.14% '"
      ]
     },
     "execution_count": 192,
     "metadata": {},
     "output_type": "execute_result"
    }
   ],
   "source": [
    "P_1_a_1=p_amer_1*p_cali_1\n",
    "\"La probabilidad de que el partido termine 1 a 1 es: \" \"{:.2%} ==> \".format(P_1_a_1) + \"{:.2%} x \".format(p_amer_1) + \"{:.2%} \".format(p_cali_1)"
   ]
  },
  {
   "cell_type": "markdown",
   "id": "743f9143",
   "metadata": {},
   "source": [
    "- **6.** ¿Qué probabilidad hay de que el partido termine:\n",
    "  -   2 a 1 ?"
   ]
  },
  {
   "cell_type": "markdown",
   "id": "29baf822",
   "metadata": {},
   "source": [
    "probabildad P_2_a_1 (que un partido termine **CALI:2 , AMERICA:1**) dado que el ejercicio supone independencia en los goles que anotan ambos equipos y de qué equipo juega de local"
   ]
  },
  {
   "cell_type": "code",
   "execution_count": 198,
   "id": "722d1f63",
   "metadata": {},
   "outputs": [
    {
     "data": {
      "text/plain": [
       "'La probabilidad de que el partido termine 1 a 1 es: 7.94% ==> 21.69% x 36.59%'"
      ]
     },
     "execution_count": 198,
     "metadata": {},
     "output_type": "execute_result"
    }
   ],
   "source": [
    "P_2_a_1=p_cali_2*p_amer_1\n",
    "\"La probabilidad de que el partido termine 2 a 1 es: \" \"{:.2%} ==> \".format(P_2_a_1) + \"{:.2%} x \".format(p_cali_2) + \"{:.2%}\".format(p_amer_1)"
   ]
  },
  {
   "cell_type": "markdown",
   "id": "d4472e89",
   "metadata": {},
   "source": [
    "- **6.** ¿Qué probabilidad hay de que el partido termine:\n",
    "  -   1 a 2 ?"
   ]
  },
  {
   "cell_type": "markdown",
   "id": "3a695676",
   "metadata": {},
   "source": [
    "probabildad P_1_a_2 (que un partido termine **CALI:1 , AMERICA:2**) dado que el ejercicio supone independencia en los goles que anotan ambos equipos y de qué equipo juega de local"
   ]
  },
  {
   "cell_type": "code",
   "execution_count": 199,
   "id": "c8735f8f",
   "metadata": {},
   "outputs": [
    {
     "data": {
      "text/plain": [
       "'La probabilidad de que el partido termine 1 a 2 es: 5.95% ==> 36.14% x 16.47%'"
      ]
     },
     "execution_count": 199,
     "metadata": {},
     "output_type": "execute_result"
    }
   ],
   "source": [
    "P_1_a_2=p_cali_1*p_amer_2\n",
    "\"La probabilidad de que el partido termine 1 a 2 es: \" \"{:.2%} ==> \".format(P_1_a_2) + \"{:.2%} x \".format(p_cali_1) + \"{:.2%}\".format(p_amer_2)"
   ]
  }
 ],
 "metadata": {
  "kernelspec": {
   "display_name": "Python 3 (ipykernel)",
   "language": "python",
   "name": "python3"
  },
  "language_info": {
   "codemirror_mode": {
    "name": "ipython",
    "version": 3
   },
   "file_extension": ".py",
   "mimetype": "text/x-python",
   "name": "python",
   "nbconvert_exporter": "python",
   "pygments_lexer": "ipython3",
   "version": "3.9.13"
  }
 },
 "nbformat": 4,
 "nbformat_minor": 5
}
